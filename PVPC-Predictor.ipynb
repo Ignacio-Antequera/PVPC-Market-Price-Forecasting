{
 "cells": [
  {
   "cell_type": "code",
   "execution_count": null,
   "metadata": {},
   "outputs": [],
   "source": [
    "# Import libraries\n",
    "import requests\n",
    "import pandas as pd\n",
    "from datetime import datetime"
   ]
  },
  {
   "cell_type": "code",
   "execution_count": null,
   "metadata": {},
   "outputs": [],
   "source": [
    "# ACCESSING THE DATA\n",
    "\n",
    "# API endpoint URL\n",
    "url = \"https://api.preciodelaluz.org/v1/prices/all?zone=PCB\"\n",
    "\n",
    "try:\n",
    "  # Make the API call\n",
    "  response = requests.get(url)\n",
    "  response.raise_for_status()  # Raise an exception for non-200 status codes\n",
    "\n",
    "  # Parse JSON data\n",
    "  data = response.json()\n",
    "\n",
    "  # Extract relevant information from JSON (assuming specific structure)\n",
    "  prices = []\n",
    "  for item in data:\n",
    "    date = datetime.strptime(item[\"date\"], \"%d-%m-%Y\")  # Parse date\n",
    "    price = float(item[\"price\"])\n",
    "    prices.append({\"date\": date, \"price\": price})\n",
    "\n",
    "  # Create pandas DataFrame\n",
    "  df = pd.DataFrame(prices)\n",
    "  df = df.sort_values(by=\"date\")  # Sort by date for easier analysis\n",
    "\n",
    "  print(\"Data retrieved and stored in DataFrame successfully!\")\n",
    "\n",
    "except requests.exceptions.RequestException as e:\n",
    "  print(f\"Error: An error occurred while making the API request: {e}\")\n",
    "\n",
    "except Exception as e:  # Catch other potential exceptions\n",
    "  print(f\"Error: An unexpected error occurred: {e}\")"
   ]
  }
 ],
 "metadata": {
  "kernelspec": {
   "display_name": ".venv",
   "language": "python",
   "name": "python3"
  },
  "language_info": {
   "name": "python",
   "version": "3.12.2"
  }
 },
 "nbformat": 4,
 "nbformat_minor": 2
}
