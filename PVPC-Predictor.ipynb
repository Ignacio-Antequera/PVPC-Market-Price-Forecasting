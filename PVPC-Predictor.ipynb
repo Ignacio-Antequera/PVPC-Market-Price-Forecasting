{
 "cells": [
  {
   "cell_type": "code",
   "execution_count": null,
   "metadata": {},
   "outputs": [],
   "source": [
    "# Import libraries\n",
    "import os\n",
    "import zipfile\n",
    "\n",
    "# API functions\n",
    "import requests\n",
    "import pandas as pd\n",
    "import datetime"
   ]
  },
  {
   "cell_type": "code",
   "execution_count": null,
   "metadata": {},
   "outputs": [],
   "source": [
    "# Define Functions\n",
    "\n",
    "def get_start_date():\n",
    "  \"\"\"Calculates the date for 6 months ago from the current date.\"\"\"\n",
    "  today = datetime.date.today()\n",
    "  return today - datetime.timedelta(days = 30 * 6)  # 30 days in a month\n",
    "\n",
    "def get_end_date():\n",
    "  \"\"\"Returns today's date.\"\"\"\n",
    "  today = datetime.date.today()\n",
    "  return today - datetime.timedelta(days = 1)  # 30 days in a month"
   ]
  },
  {
   "cell_type": "code",
   "execution_count": null,
   "metadata": {},
   "outputs": [],
   "source": [
    "# Calculate Dates\n",
    "start_date = get_start_date()\n",
    "end_date = get_end_date()\n",
    "\n",
    "print(start_date)\n",
    "print(end_date)"
   ]
  },
  {
   "cell_type": "code",
   "execution_count": null,
   "metadata": {},
   "outputs": [],
   "source": [
    "# Format Dates\n",
    "formatted_start_date = start_date.strftime(\"%Y-%m-%dT00:00:00+00:00\")\n",
    "formatted_end_date = end_date.strftime(\"%Y-%m-%dT23:59:59+00:00\")\n",
    "\n",
    "print(formatted_start_date)\n",
    "print(formatted_end_date)"
   ]
  },
  {
   "cell_type": "code",
   "execution_count": null,
   "metadata": {},
   "outputs": [],
   "source": [
    "# Build API URL\n",
    "base_url = \"https://api.esios.ree.es/archives\"\n",
    "date_type = \"datos\"\n",
    "url = f\"{base_url}?start_date={formatted_start_date}&end_date={formatted_end_date}&date_type={date_type}\"\n",
    "\n",
    "print(url)"
   ]
  },
  {
   "cell_type": "code",
   "execution_count": null,
   "metadata": {},
   "outputs": [],
   "source": [
    "# Authentication Setup\n",
    "api_key = \"c965de4dda51fe59aa6c522dcb519ed794e0082a3abe70d73ebd491c463da433\"\n",
    "headers = {\n",
    "    \"Accept\": \"application/json; application/vnd.esios-api-v1+json\",\n",
    "    \"Content-Type\": \"application/json\",\n",
    "    \"x-api-key\": api_key\n",
    "}\n",
    "\n",
    "# Send API Request\n",
    "response = requests.get(url, headers = headers)\n",
    "data = response.json()\n",
    "print(data)"
   ]
  },
  {
   "cell_type": "code",
   "execution_count": null,
   "metadata": {},
   "outputs": [],
   "source": [
    "# Accessing the Download Link\n",
    "download_link = data['archives'][0]['download']['url']\n",
    "print(download_link)"
   ]
  },
  {
   "cell_type": "code",
   "execution_count": null,
   "metadata": {},
   "outputs": [],
   "source": [
    "base_url = \"https://api.esios.ree.es\"\n",
    "complete_download_link = f\"{base_url}{download_link}\"\n",
    "\n",
    "# Define the data folder path\n",
    "data_folder = \"Data\"\n",
    "\n",
    "# Check if the folder exists, create it if not\n",
    "if not os.path.exists(data_folder):\n",
    "    os.makedirs(data_folder)\n",
    "    \n",
    "# Downloading the Data:\n",
    "response = requests.get(complete_download_link)\n",
    "\n",
    "if response.status_code == 200:\n",
    "    # Download successful!\n",
    "    data_content = response.content  # Get the downloaded data as bytes\n",
    "\n",
    "    # Save the data to a file\n",
    "    with open('Data/downloaded_data.zip', 'wb') as f:\n",
    "        f.write(data_content)\n",
    "    print(\"Data downloaded successfully!\")\n",
    "else:\n",
    "    print(f\"Error downloading data: {response.status_code}\")"
   ]
  },
  {
   "cell_type": "code",
   "execution_count": null,
   "metadata": {},
   "outputs": [],
   "source": [
    "try:\n",
    "  # Open the zip file\n",
    "  with zipfile.ZipFile('Data/downloaded_data.zip', 'r') as zip_ref:\n",
    "    # Extract all files to the data folder\n",
    "    zip_ref.extractall(data_folder)\n",
    "    print(\"Data extracted successfully!\")\n",
    "except zipfile.BadZipFile as e:\n",
    "  print(f\"Error extracting data: {e}\")\n",
    "except Exception as e:  # Catch other potential exceptions\n",
    "  print(f\"Unexpected error: {e}\")"
   ]
  },
  {
   "cell_type": "code",
   "execution_count": null,
   "metadata": {},
   "outputs": [],
   "source": [
    "def extract_nested_zip_files(nested_zip_filenames, data_folder, target_filename_pattern):\n",
    "    extracted_files = []\n",
    "\n",
    "    for filename in nested_zip_filenames:\n",
    "        if filename.startswith(\"C2_PrecioFinal\") and filename.endswith(\".zip\"):\n",
    "            # Extract nested zip temporarily within data_folder\n",
    "            nested_zip_file = os.path.join(data_folder, filename)  # Use os.path.join for joining paths\n",
    "            outer_zip.extract(filename, data_folder)  # Extract using the copied filename\n",
    "\n",
    "            with zipfile.ZipFile(nested_zip_file, 'r') as inner_zip:\n",
    "                for inner_info in inner_zip.infolist():\n",
    "                    if inner_info.filename.startswith(target_filename_pattern):\n",
    "                        extracted_files.append(inner_info.filename)\n",
    "                        inner_zip.extract(inner_info.filename, data_folder)\n",
    "\n",
    "            # os.remove(nested_zip_file)  # Remove the extracted nested zip\n",
    "\n",
    "    if extracted_files:\n",
    "        print(\"Extracted files:\")\n",
    "        for filename in extracted_files:\n",
    "            print(f\"- {filename}\")\n",
    "    else:\n",
    "        print(\"No files matching the target pattern were found.\")\n",
    "        \n",
    "nested_zip_filenames = []\n",
    "with zipfile.ZipFile('Data/downloaded_data.zip', 'r') as outer_zip:\n",
    "  for info in outer_zip.infolist():\n",
    "    if info.filename.startswith(\"C2_PrecioFinal\") and info.filename.endswith(\".zip\"):\n",
    "      print(f\"Found nested zip file: {info.filename}\")  # Print for verification\n",
    "      nested_zip_filenames.append(info.filename)  # Store filenames\n",
    "  \n",
    "  # Define target pattern\n",
    "  target_filename_pattern = \"PFMHORAS_TOD_*\"\n",
    "  # Extract files\n",
    "  extract_nested_zip_files(nested_zip_filenames, data_folder, target_filename_pattern)"
   ]
  }
 ],
 "metadata": {
  "kernelspec": {
   "display_name": ".venv",
   "language": "python",
   "name": "python3"
  },
  "language_info": {
   "codemirror_mode": {
    "name": "ipython",
    "version": 3
   },
   "file_extension": ".py",
   "mimetype": "text/x-python",
   "name": "python",
   "nbconvert_exporter": "python",
   "pygments_lexer": "ipython3",
   "version": "3.12.2"
  }
 },
 "nbformat": 4,
 "nbformat_minor": 2
}
