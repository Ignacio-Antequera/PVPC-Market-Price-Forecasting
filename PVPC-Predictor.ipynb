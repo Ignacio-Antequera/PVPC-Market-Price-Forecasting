{
 "cells": [
  {
   "cell_type": "code",
   "execution_count": 1,
   "metadata": {},
   "outputs": [],
   "source": [
    "# Import libraries\n",
    "\n",
    "# API functions\n",
    "import requests\n",
    "import pandas as pd\n",
    "import datetime"
   ]
  },
  {
   "cell_type": "code",
   "execution_count": 2,
   "metadata": {},
   "outputs": [],
   "source": [
    "# Define Functions\n",
    "\n",
    "def get_start_date():\n",
    "  \"\"\"Calculates the date for 6 months ago from the current date.\"\"\"\n",
    "  today = datetime.date.today()\n",
    "  return today - datetime.timedelta(days = 30 * 6)  # 30 days in a month\n",
    "\n",
    "def get_end_date():\n",
    "  \"\"\"Returns today's date.\"\"\"\n",
    "  return datetime.date.today()"
   ]
  },
  {
   "cell_type": "code",
   "execution_count": 3,
   "metadata": {},
   "outputs": [
    {
     "name": "stdout",
     "output_type": "stream",
     "text": [
      "2023-09-15\n",
      "2024-03-13\n"
     ]
    }
   ],
   "source": [
    "# Calculate Dates\n",
    "start_date = get_start_date()  # Or: start_date = datetime.date.today() - datetime.timedelta(days = 30 * 6)\n",
    "end_date = get_end_date()  # Or: end_date = datetime.date.today()\n",
    "\n",
    "print(start_date)\n",
    "print(end_date)"
   ]
  },
  {
   "cell_type": "code",
   "execution_count": 4,
   "metadata": {},
   "outputs": [
    {
     "name": "stdout",
     "output_type": "stream",
     "text": [
      "2023-09-15T00:00:00+00:00\n",
      "2024-03-13T23:59:59+00:00\n"
     ]
    }
   ],
   "source": [
    "# Format Dates\n",
    "formatted_start_date = start_date.strftime(\"%Y-%m-%dT00:00:00+00:00\")\n",
    "formatted_end_date = end_date.strftime(\"%Y-%m-%dT23:59:59+00:00\")\n",
    "\n",
    "print(formatted_start_date)\n",
    "print(formatted_end_date)"
   ]
  },
  {
   "cell_type": "code",
   "execution_count": null,
   "metadata": {},
   "outputs": [],
   "source": [
    "# Build API URL\n",
    "base_url = \"https://api.esios.ree.es/archives\"\n",
    "date_type = \"datos\"\n",
    "url = f\"{base_url}?start_date={formatted_start_date}&end_date={formatted_end_date}&date_type={date_type}\"\n"
   ]
  }
 ],
 "metadata": {
  "kernelspec": {
   "display_name": ".venv",
   "language": "python",
   "name": "python3"
  },
  "language_info": {
   "codemirror_mode": {
    "name": "ipython",
    "version": 3
   },
   "file_extension": ".py",
   "mimetype": "text/x-python",
   "name": "python",
   "nbconvert_exporter": "python",
   "pygments_lexer": "ipython3",
   "version": "3.12.2"
  }
 },
 "nbformat": 4,
 "nbformat_minor": 2
}
