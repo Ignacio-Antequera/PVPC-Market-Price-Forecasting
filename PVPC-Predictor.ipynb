{
 "cells": [
  {
   "cell_type": "code",
   "execution_count": 1,
   "metadata": {},
   "outputs": [],
   "source": [
    "# Import libraries\n",
    "import os\n",
    "import zipfile\n",
    "\n",
    "# API functions\n",
    "import requests\n",
    "import pandas as pd\n",
    "import datetime"
   ]
  },
  {
   "cell_type": "code",
   "execution_count": 2,
   "metadata": {},
   "outputs": [],
   "source": [
    "# Define Functions\n",
    "\n",
    "def get_start_date():\n",
    "  \"\"\"Calculates the date for 6 months ago from the current date.\"\"\"\n",
    "  today = datetime.date.today()\n",
    "  return today - datetime.timedelta(days = 30 * 6)  # 30 days in a month\n",
    "\n",
    "def get_end_date():\n",
    "  \"\"\"Returns today's date.\"\"\"\n",
    "  today = datetime.date.today()\n",
    "  return today - datetime.timedelta(days = 1)  # 30 days in a month"
   ]
  },
  {
   "cell_type": "code",
   "execution_count": 3,
   "metadata": {},
   "outputs": [
    {
     "name": "stdout",
     "output_type": "stream",
     "text": [
      "2023-09-16\n",
      "2024-03-13\n"
     ]
    }
   ],
   "source": [
    "# Calculate Dates\n",
    "start_date = get_start_date()\n",
    "end_date = get_end_date()\n",
    "\n",
    "print(start_date)\n",
    "print(end_date)"
   ]
  },
  {
   "cell_type": "code",
   "execution_count": 4,
   "metadata": {},
   "outputs": [
    {
     "name": "stdout",
     "output_type": "stream",
     "text": [
      "2023-09-16T00:00:00+00:00\n",
      "2024-03-13T23:59:59+00:00\n"
     ]
    }
   ],
   "source": [
    "# Format Dates\n",
    "formatted_start_date = start_date.strftime(\"%Y-%m-%dT00:00:00+00:00\")\n",
    "formatted_end_date = end_date.strftime(\"%Y-%m-%dT23:59:59+00:00\")\n",
    "\n",
    "print(formatted_start_date)\n",
    "print(formatted_end_date)"
   ]
  },
  {
   "cell_type": "code",
   "execution_count": 5,
   "metadata": {},
   "outputs": [
    {
     "name": "stdout",
     "output_type": "stream",
     "text": [
      "https://api.esios.ree.es/archives?start_date=2023-09-16T00:00:00+00:00&end_date=2024-03-13T23:59:59+00:00&date_type=datos\n"
     ]
    }
   ],
   "source": [
    "# Build API URL\n",
    "base_url = \"https://api.esios.ree.es/archives\"\n",
    "date_type = \"datos\"\n",
    "url = f\"{base_url}?start_date={formatted_start_date}&end_date={formatted_end_date}&date_type={date_type}\"\n",
    "\n",
    "print(url)"
   ]
  },
  {
   "cell_type": "code",
   "execution_count": 6,
   "metadata": {},
   "outputs": [
    {
     "name": "stdout",
     "output_type": "stream",
     "text": [
      "{'archives': [{'name': 'C2_PrecioFinal', 'id': 187, 'horizon': 'M', 'archive_type': 'zip', 'download': {'name': 'C2_PrecioFinal', 'url': '/archives/187/download?date_type=datos&end_date=2024-03-13T23%3A59%3A59%2B00%3A00&locale=es&start_date=2023-09-16T00%3A00%3A00%2B00%3A00'}, 'date': {'date_type': 'datos', 'start_date': '2023-09-16T00:00:00.000+00:00', 'end_date': '2024-03-13T23:59:59.000+00:00'}, 'date_times': ['2023-09-01', '2024-02-29'], 'publication_date': ['2023-10-10', '2024-03-11'], 'taxonomy_terms': [{'id_taxonomy_term': 155, 'name': 'Generación y consumo', 'vocabulary_id': 20}, {'id_taxonomy_term': 156, 'name': 'Mercados y precios', 'vocabulary_id': 20}, {'id_taxonomy_term': 165, 'name': 'Descargas', 'vocabulary_id': 21}, {'id_taxonomy_term': 168, 'name': 'General', 'vocabulary_id': 22}], 'vocabularies': [{'id_vocabulary': 20, 'name': 'Universo'}, {'id_vocabulary': 21, 'name': 'Temática'}, {'id_vocabulary': 22, 'name': 'Área'}]}, {'name': 'REE_BalancingEnerBids', 'id': 181, 'horizon': 'QM', 'archive_type': 'csv', 'download': {'name': 'REE_BalancingEnerBids', 'url': '/archives/181/download?date_type=datos&end_date=2024-03-13T23%3A59%3A59%2B00%3A00&locale=es&start_date=2023-09-16T00%3A00%3A00%2B00%3A00'}, 'date': {'date_type': 'datos', 'start_date': '2023-09-16T00:00:00.000+00:00', 'end_date': '2024-03-13T23:59:59.000+00:00'}, 'date_times': ['2023-09-16', '2024-03-13'], 'publication_date': ['2023-09-16', '2024-03-14'], 'taxonomy_terms': [{'id_taxonomy_term': 156, 'name': 'Mercados y precios', 'vocabulary_id': 20}, {'id_taxonomy_term': 165, 'name': 'Descargas', 'vocabulary_id': 21}, {'id_taxonomy_term': 178, 'name': 'Regulación Terciaria', 'vocabulary_id': 22}], 'vocabularies': [{'id_vocabulary': 20, 'name': 'Universo'}, {'id_vocabulary': 21, 'name': 'Temática'}, {'id_vocabulary': 22, 'name': 'Área'}]}, {'name': 'Resultado_Subasta_Mensual_POR', 'id': 159, 'horizon': 'M', 'archive_type': 'xls', 'download': {'name': 'Resultado_Subasta_Mensual_POR', 'url': '/archives/159/download?date_type=datos&end_date=2024-03-13T23%3A59%3A59%2B00%3A00&locale=es&start_date=2023-09-16T00%3A00%3A00%2B00%3A00'}, 'date': {'date_type': 'datos', 'start_date': '2023-09-16T00:00:00.000+00:00', 'end_date': '2024-03-13T23:59:59.000+00:00'}, 'date_times': ['2023-09-01', '2024-03-31'], 'publication_date': ['2023-08-24', '2024-02-22'], 'taxonomy_terms': [{'id_taxonomy_term': 156, 'name': 'Mercados y precios', 'vocabulary_id': 20}, {'id_taxonomy_term': 165, 'name': 'Descargas', 'vocabulary_id': 21}, {'id_taxonomy_term': 182, 'name': 'Subastas explícitas', 'vocabulary_id': 22}], 'vocabularies': [{'id_vocabulary': 20, 'name': 'Universo'}, {'id_vocabulary': 21, 'name': 'Temática'}, {'id_vocabulary': 22, 'name': 'Área'}]}, {'name': 'Resultado_Subasta_Anual_POR', 'id': 160, 'horizon': 'A', 'archive_type': 'xls', 'download': {'name': 'Resultado_Subasta_Anual_POR', 'url': '/archives/160/download?date_type=datos&end_date=2024-03-13T23%3A59%3A59%2B00%3A00&locale=es&start_date=2023-09-16T00%3A00%3A00%2B00%3A00'}, 'date': {'date_type': 'datos', 'start_date': '2023-09-16T00:00:00.000+00:00', 'end_date': '2024-03-13T23:59:59.000+00:00'}, 'date_times': ['2023-01-01', '2024-12-31'], 'publication_date': ['2022-12-15', '2023-12-18'], 'taxonomy_terms': [{'id_taxonomy_term': 156, 'name': 'Mercados y precios', 'vocabulary_id': 20}, {'id_taxonomy_term': 165, 'name': 'Descargas', 'vocabulary_id': 21}, {'id_taxonomy_term': 182, 'name': 'Subastas explícitas', 'vocabulary_id': 22}], 'vocabularies': [{'id_vocabulary': 20, 'name': 'Universo'}, {'id_vocabulary': 21, 'name': 'Temática'}, {'id_vocabulary': 22, 'name': 'Área'}]}, {'name': 'Resultado_Subasta_Trimestral_POR', 'id': 161, 'horizon': 'T', 'archive_type': 'xls', 'download': {'name': 'Resultado_Subasta_Trimestral_POR', 'url': '/archives/161/download?date_type=datos&end_date=2024-03-13T23%3A59%3A59%2B00%3A00&locale=es&start_date=2023-09-16T00%3A00%3A00%2B00%3A00'}, 'date': {'date_type': 'datos', 'start_date': '2023-09-16T00:00:00.000+00:00', 'end_date': '2024-03-13T23:59:59.000+00:00'}, 'date_times': ['2023-07-01', '2024-03-31'], 'publication_date': ['2023-06-08', '2023-12-15'], 'taxonomy_terms': [{'id_taxonomy_term': 156, 'name': 'Mercados y precios', 'vocabulary_id': 20}, {'id_taxonomy_term': 165, 'name': 'Descargas', 'vocabulary_id': 21}, {'id_taxonomy_term': 182, 'name': 'Subastas explícitas', 'vocabulary_id': 22}], 'vocabularies': [{'id_vocabulary': 20, 'name': 'Universo'}, {'id_vocabulary': 21, 'name': 'Temática'}, {'id_vocabulary': 22, 'name': 'Área'}]}, {'name': 'Espec_Subasta_Trimestral_EP', 'id': 149, 'horizon': 'T', 'archive_type': 'pdf', 'download': {'name': 'Espec_Subasta_Trimestral_EP', 'url': '/archives/149/download?date_type=datos&end_date=2024-03-13T23%3A59%3A59%2B00%3A00&locale=es&start_date=2023-09-16T00%3A00%3A00%2B00%3A00'}, 'date': {'date_type': 'datos', 'start_date': '2023-09-16T00:00:00.000+00:00', 'end_date': '2024-03-13T23:59:59.000+00:00'}, 'date_times': ['2023-07-01', '2024-03-31'], 'publication_date': ['2023-06-06', '2023-12-13'], 'taxonomy_terms': [{'id_taxonomy_term': 156, 'name': 'Mercados y precios', 'vocabulary_id': 20}, {'id_taxonomy_term': 165, 'name': 'Descargas', 'vocabulary_id': 21}, {'id_taxonomy_term': 182, 'name': 'Subastas explícitas', 'vocabulary_id': 22}], 'vocabularies': [{'id_vocabulary': 20, 'name': 'Universo'}, {'id_vocabulary': 21, 'name': 'Temática'}, {'id_vocabulary': 22, 'name': 'Área'}]}, {'name': 'Espec_Subasta_Trimestral_PE', 'id': 150, 'horizon': 'T', 'archive_type': 'pdf', 'download': {'name': 'Espec_Subasta_Trimestral_PE', 'url': '/archives/150/download?date_type=datos&end_date=2024-03-13T23%3A59%3A59%2B00%3A00&locale=es&start_date=2023-09-16T00%3A00%3A00%2B00%3A00'}, 'date': {'date_type': 'datos', 'start_date': '2023-09-16T00:00:00.000+00:00', 'end_date': '2024-03-13T23:59:59.000+00:00'}, 'date_times': ['2023-07-01', '2024-03-31'], 'publication_date': ['2023-06-06', '2023-12-13'], 'taxonomy_terms': [{'id_taxonomy_term': 156, 'name': 'Mercados y precios', 'vocabulary_id': 20}, {'id_taxonomy_term': 165, 'name': 'Descargas', 'vocabulary_id': 21}, {'id_taxonomy_term': 182, 'name': 'Subastas explícitas', 'vocabulary_id': 22}], 'vocabularies': [{'id_vocabulary': 20, 'name': 'Universo'}, {'id_vocabulary': 21, 'name': 'Temática'}, {'id_vocabulary': 22, 'name': 'Área'}]}, {'name': 'Espec_Subasta_Anual_EP', 'id': 151, 'horizon': 'A', 'archive_type': 'pdf', 'download': {'name': 'Espec_Subasta_Anual_EP', 'url': '/archives/151/download?date_type=datos&end_date=2024-03-13T23%3A59%3A59%2B00%3A00&locale=es&start_date=2023-09-16T00%3A00%3A00%2B00%3A00'}, 'date': {'date_type': 'datos', 'start_date': '2023-09-16T00:00:00.000+00:00', 'end_date': '2024-03-13T23:59:59.000+00:00'}, 'date_times': ['2023-01-01', '2024-12-31'], 'publication_date': ['2022-12-02', '2023-12-04'], 'taxonomy_terms': [{'id_taxonomy_term': 156, 'name': 'Mercados y precios', 'vocabulary_id': 20}, {'id_taxonomy_term': 165, 'name': 'Descargas', 'vocabulary_id': 21}, {'id_taxonomy_term': 182, 'name': 'Subastas explícitas', 'vocabulary_id': 22}], 'vocabularies': [{'id_vocabulary': 20, 'name': 'Universo'}, {'id_vocabulary': 21, 'name': 'Temática'}, {'id_vocabulary': 22, 'name': 'Área'}]}, {'name': 'Espec_Subasta_Anual_PE', 'id': 152, 'horizon': 'A', 'archive_type': 'pdf', 'download': {'name': 'Espec_Subasta_Anual_PE', 'url': '/archives/152/download?date_type=datos&end_date=2024-03-13T23%3A59%3A59%2B00%3A00&locale=es&start_date=2023-09-16T00%3A00%3A00%2B00%3A00'}, 'date': {'date_type': 'datos', 'start_date': '2023-09-16T00:00:00.000+00:00', 'end_date': '2024-03-13T23:59:59.000+00:00'}, 'date_times': ['2023-01-01', '2024-12-31'], 'publication_date': ['2022-12-02', '2023-12-04'], 'taxonomy_terms': [{'id_taxonomy_term': 156, 'name': 'Mercados y precios', 'vocabulary_id': 20}, {'id_taxonomy_term': 165, 'name': 'Descargas', 'vocabulary_id': 21}, {'id_taxonomy_term': 182, 'name': 'Subastas explícitas', 'vocabulary_id': 22}], 'vocabularies': [{'id_vocabulary': 20, 'name': 'Universo'}, {'id_vocabulary': 21, 'name': 'Temática'}, {'id_vocabulary': 22, 'name': 'Área'}]}, {'name': 'Espec_Subasta_Mensual_EP', 'id': 147, 'horizon': 'M', 'archive_type': 'pdf', 'download': {'name': 'Espec_Subasta_Mensual_EP', 'url': '/archives/147/download?date_type=datos&end_date=2024-03-13T23%3A59%3A59%2B00%3A00&locale=es&start_date=2023-09-16T00%3A00%3A00%2B00%3A00'}, 'date': {'date_type': 'datos', 'start_date': '2023-09-16T00:00:00.000+00:00', 'end_date': '2024-03-13T23:59:59.000+00:00'}, 'date_times': ['2023-09-01', '2024-03-31'], 'publication_date': ['2023-08-21', '2024-02-20'], 'taxonomy_terms': [{'id_taxonomy_term': 156, 'name': 'Mercados y precios', 'vocabulary_id': 20}, {'id_taxonomy_term': 165, 'name': 'Descargas', 'vocabulary_id': 21}, {'id_taxonomy_term': 182, 'name': 'Subastas explícitas', 'vocabulary_id': 22}], 'vocabularies': [{'id_vocabulary': 20, 'name': 'Universo'}, {'id_vocabulary': 21, 'name': 'Temática'}, {'id_vocabulary': 22, 'name': 'Área'}]}, {'name': 'Espec_Subasta_Mensual_PE', 'id': 148, 'horizon': 'M', 'archive_type': 'pdf', 'download': {'name': 'Espec_Subasta_Mensual_PE', 'url': '/archives/148/download?date_type=datos&end_date=2024-03-13T23%3A59%3A59%2B00%3A00&locale=es&start_date=2023-09-16T00%3A00%3A00%2B00%3A00'}, 'date': {'date_type': 'datos', 'start_date': '2023-09-16T00:00:00.000+00:00', 'end_date': '2024-03-13T23:59:59.000+00:00'}, 'date_times': ['2023-09-01', '2024-03-31'], 'publication_date': ['2023-08-21', '2024-02-20'], 'taxonomy_terms': [{'id_taxonomy_term': 156, 'name': 'Mercados y precios', 'vocabulary_id': 20}, {'id_taxonomy_term': 165, 'name': 'Descargas', 'vocabulary_id': 21}, {'id_taxonomy_term': 182, 'name': 'Subastas explícitas', 'vocabulary_id': 22}], 'vocabularies': [{'id_vocabulary': 20, 'name': 'Universo'}, {'id_vocabulary': 21, 'name': 'Temática'}, {'id_vocabulary': 22, 'name': 'Área'}]}, {'name': 'hemeroteca_DD_ent', 'id': 15, 'horizon': 'D', 'archive_type': 'zip', 'download': {'name': 'hemeroteca_DD_ent', 'url': '/archives/15/download?date_type=datos&end_date=2024-03-13T23%3A59%3A59%2B00%3A00&locale=es&start_date=2023-09-16T00%3A00%3A00%2B00%3A00'}, 'date': {'date_type': 'datos', 'start_date': '2023-09-16T00:00:00.000+00:00', 'end_date': '2024-03-13T23:59:59.000+00:00'}, 'date_times': ['2023-09-16', '2023-12-15'], 'publication_date': ['2023-12-15', '2024-03-14'], 'taxonomy_terms': [{'id_taxonomy_term': 155, 'name': 'Generación y consumo', 'vocabulary_id': 20}, {'id_taxonomy_term': 156, 'name': 'Mercados y precios', 'vocabulary_id': 20}, {'id_taxonomy_term': 165, 'name': 'Descargas', 'vocabulary_id': 21}, {'id_taxonomy_term': 168, 'name': 'General', 'vocabulary_id': 22}], 'vocabularies': [{'id_vocabulary': 20, 'name': 'Universo'}, {'id_vocabulary': 21, 'name': 'Temática'}, {'id_vocabulary': 22, 'name': 'Área'}]}, {'name': 'hemeroteca_DD_sal', 'id': 16, 'horizon': 'D', 'archive_type': 'zip', 'download': {'name': 'hemeroteca_DD_sal', 'url': '/archives/16/download?date_type=datos&end_date=2024-03-13T23%3A59%3A59%2B00%3A00&locale=es&start_date=2023-09-16T00%3A00%3A00%2B00%3A00'}, 'date': {'date_type': 'datos', 'start_date': '2023-09-16T00:00:00.000+00:00', 'end_date': '2024-03-13T23:59:59.000+00:00'}, 'date_times': ['2023-09-16', '2023-12-15'], 'publication_date': ['2023-12-15', '2024-03-14'], 'taxonomy_terms': [{'id_taxonomy_term': 155, 'name': 'Generación y consumo', 'vocabulary_id': 20}, {'id_taxonomy_term': 156, 'name': 'Mercados y precios', 'vocabulary_id': 20}, {'id_taxonomy_term': 165, 'name': 'Descargas', 'vocabulary_id': 21}, {'id_taxonomy_term': 168, 'name': 'General', 'vocabulary_id': 22}], 'vocabularies': [{'id_vocabulary': 20, 'name': 'Universo'}, {'id_vocabulary': 21, 'name': 'Temática'}, {'id_vocabulary': 22, 'name': 'Área'}]}, {'name': 'REE_ActualGenOutput', 'id': 109, 'horizon': 'D', 'archive_type': 'xml', 'download': {'name': 'REE_ActualGenOutput', 'url': '/archives/109/download?date_type=datos&end_date=2024-03-13T23%3A59%3A59%2B00%3A00&locale=es&start_date=2023-09-16T00%3A00%3A00%2B00%3A00'}, 'date': {'date_type': 'datos', 'start_date': '2023-09-16T00:00:00.000+00:00', 'end_date': '2024-03-13T23:59:59.000+00:00'}, 'date_times': ['2023-09-16', '2024-03-10'], 'publication_date': ['2023-09-21', '2024-03-11'], 'taxonomy_terms': [{'id_taxonomy_term': 155, 'name': 'Generación y consumo', 'vocabulary_id': 20}, {'id_taxonomy_term': 165, 'name': 'Descargas', 'vocabulary_id': 21}, {'id_taxonomy_term': 168, 'name': 'General', 'vocabulary_id': 22}], 'vocabularies': [{'id_vocabulary': 20, 'name': 'Universo'}, {'id_vocabulary': 21, 'name': 'Temática'}, {'id_vocabulary': 22, 'name': 'Área'}]}, {'name': 'COEF_KEST_MM', 'id': 40, 'horizon': 'M', 'archive_type': 'xls', 'download': {'name': 'COEF_KEST_MM', 'url': '/archives/40/download?date_type=datos&end_date=2024-03-13T23%3A59%3A59%2B00%3A00&locale=es&start_date=2023-09-16T00%3A00%3A00%2B00%3A00'}, 'date': {'date_type': 'datos', 'start_date': '2023-09-16T00:00:00.000+00:00', 'end_date': '2024-03-13T23:59:59.000+00:00'}, 'date_times': ['2023-09-01', '2024-03-31'], 'publication_date': ['2023-08-14', '2024-02-13'], 'taxonomy_terms': [{'id_taxonomy_term': 155, 'name': 'Generación y consumo', 'vocabulary_id': 20}, {'id_taxonomy_term': 156, 'name': 'Mercados y precios', 'vocabulary_id': 20}, {'id_taxonomy_term': 157, 'name': 'Sistemas no peninsulares', 'vocabulary_id': 20}, {'id_taxonomy_term': 165, 'name': 'Descargas', 'vocabulary_id': 21}, {'id_taxonomy_term': 172, 'name': 'Liquidaciones', 'vocabulary_id': 22}, {'id_taxonomy_term': 174, 'name': 'Pérdidas', 'vocabulary_id': 22}], 'vocabularies': [{'id_vocabulary': 20, 'name': 'Universo'}, {'id_vocabulary': 21, 'name': 'Temática'}, {'id_vocabulary': 22, 'name': 'Área'}]}, {'name': 'PlanesMantenimiento', 'id': 106, 'horizon': 'M', 'archive_type': 'xls', 'download': {'name': 'PlanesMantenimiento', 'url': '/archives/106/download?date_type=datos&end_date=2024-03-13T23%3A59%3A59%2B00%3A00&locale=es&start_date=2023-09-16T00%3A00%3A00%2B00%3A00'}, 'date': {'date_type': 'datos', 'start_date': '2023-09-16T00:00:00.000+00:00', 'end_date': '2024-03-13T23:59:59.000+00:00'}, 'date_times': ['2023-09-01', '2024-03-31'], 'publication_date': ['2023-09-01', '2024-03-01'], 'taxonomy_terms': [{'id_taxonomy_term': 155, 'name': 'Generación y consumo', 'vocabulary_id': 20}, {'id_taxonomy_term': 165, 'name': 'Descargas', 'vocabulary_id': 21}, {'id_taxonomy_term': 188, 'name': 'Indisponibilidades', 'vocabulary_id': 22}], 'vocabularies': [{'id_vocabulary': 20, 'name': 'Universo'}, {'id_vocabulary': 21, 'name': 'Temática'}, {'id_vocabulary': 22, 'name': 'Área'}]}, {'name': 'Indisponibilidades', 'id': 105, 'horizon': 'D', 'archive_type': 'xls', 'download': {'name': 'Indisponibilidades', 'url': '/archives/105/download?date_type=datos&end_date=2024-03-13T23%3A59%3A59%2B00%3A00&locale=es&start_date=2023-09-16T00%3A00%3A00%2B00%3A00'}, 'date': {'date_type': 'datos', 'start_date': '2023-09-16T00:00:00.000+00:00', 'end_date': '2024-03-13T23:59:59.000+00:00'}, 'date_times': ['2023-09-16', '2024-03-13'], 'publication_date': ['2023-09-17', '2024-03-14'], 'taxonomy_terms': [{'id_taxonomy_term': 155, 'name': 'Generación y consumo', 'vocabulary_id': 20}, {'id_taxonomy_term': 165, 'name': 'Descargas', 'vocabulary_id': 21}, {'id_taxonomy_term': 188, 'name': 'Indisponibilidades', 'vocabulary_id': 22}], 'vocabularies': [{'id_vocabulary': 20, 'name': 'Universo'}, {'id_vocabulary': 21, 'name': 'Temática'}, {'id_vocabulary': 22, 'name': 'Área'}]}, {'name': 'Espec_Subasta_Anual_FE', 'id': 51, 'horizon': 'A', 'archive_type': 'pdf', 'download': {'name': 'Espec_Subasta_Anual_FE', 'url': '/archives/51/download?date_type=datos&end_date=2024-03-13T23%3A59%3A59%2B00%3A00&locale=es&start_date=2023-09-16T00%3A00%3A00%2B00%3A00'}, 'date': {'date_type': 'datos', 'start_date': '2023-09-16T00:00:00.000+00:00', 'end_date': '2024-03-13T23:59:59.000+00:00'}, 'date_times': ['2023-01-01', '2024-12-31'], 'publication_date': ['2022-12-07', '2023-12-04'], 'taxonomy_terms': [{'id_taxonomy_term': 156, 'name': 'Mercados y precios', 'vocabulary_id': 20}, {'id_taxonomy_term': 165, 'name': 'Descargas', 'vocabulary_id': 21}, {'id_taxonomy_term': 182, 'name': 'Subastas explícitas', 'vocabulary_id': 22}], 'vocabularies': [{'id_vocabulary': 20, 'name': 'Universo'}, {'id_vocabulary': 21, 'name': 'Temática'}, {'id_vocabulary': 22, 'name': 'Área'}]}, {'name': 'Espec_Subasta_Mensual_FE', 'id': 49, 'horizon': 'M', 'archive_type': 'pdf', 'download': {'name': 'Espec_Subasta_Mensual_FE', 'url': '/archives/49/download?date_type=datos&end_date=2024-03-13T23%3A59%3A59%2B00%3A00&locale=es&start_date=2023-09-16T00%3A00%3A00%2B00%3A00'}, 'date': {'date_type': 'datos', 'start_date': '2023-09-16T00:00:00.000+00:00', 'end_date': '2024-03-13T23:59:59.000+00:00'}, 'date_times': ['2023-09-01', '2024-03-31'], 'publication_date': ['2023-08-21', '2024-02-20'], 'taxonomy_terms': [{'id_taxonomy_term': 156, 'name': 'Mercados y precios', 'vocabulary_id': 20}, {'id_taxonomy_term': 165, 'name': 'Descargas', 'vocabulary_id': 21}, {'id_taxonomy_term': 182, 'name': 'Subastas explícitas', 'vocabulary_id': 22}], 'vocabularies': [{'id_vocabulary': 20, 'name': 'Universo'}, {'id_vocabulary': 21, 'name': 'Temática'}, {'id_vocabulary': 22, 'name': 'Área'}]}, {'name': 'Espec_Subasta_Anual_EF', 'id': 50, 'horizon': 'A', 'archive_type': 'pdf', 'download': {'name': 'Espec_Subasta_Anual_EF', 'url': '/archives/50/download?date_type=datos&end_date=2024-03-13T23%3A59%3A59%2B00%3A00&locale=es&start_date=2023-09-16T00%3A00%3A00%2B00%3A00'}, 'date': {'date_type': 'datos', 'start_date': '2023-09-16T00:00:00.000+00:00', 'end_date': '2024-03-13T23:59:59.000+00:00'}, 'date_times': ['2023-01-01', '2024-12-31'], 'publication_date': ['2022-12-07', '2023-12-04'], 'taxonomy_terms': [{'id_taxonomy_term': 156, 'name': 'Mercados y precios', 'vocabulary_id': 20}, {'id_taxonomy_term': 165, 'name': 'Descargas', 'vocabulary_id': 21}, {'id_taxonomy_term': 182, 'name': 'Subastas explícitas', 'vocabulary_id': 22}], 'vocabularies': [{'id_vocabulary': 20, 'name': 'Universo'}, {'id_vocabulary': 21, 'name': 'Temática'}, {'id_vocabulary': 22, 'name': 'Área'}]}, {'name': 'Espec_Subasta_Mensual_EF', 'id': 48, 'horizon': 'M', 'archive_type': 'pdf', 'download': {'name': 'Espec_Subasta_Mensual_EF', 'url': '/archives/48/download?date_type=datos&end_date=2024-03-13T23%3A59%3A59%2B00%3A00&locale=es&start_date=2023-09-16T00%3A00%3A00%2B00%3A00'}, 'date': {'date_type': 'datos', 'start_date': '2023-09-16T00:00:00.000+00:00', 'end_date': '2024-03-13T23:59:59.000+00:00'}, 'date_times': ['2023-09-01', '2024-03-31'], 'publication_date': ['2023-08-21', '2024-02-20'], 'taxonomy_terms': [{'id_taxonomy_term': 156, 'name': 'Mercados y precios', 'vocabulary_id': 20}, {'id_taxonomy_term': 165, 'name': 'Descargas', 'vocabulary_id': 21}, {'id_taxonomy_term': 182, 'name': 'Subastas explícitas', 'vocabulary_id': 22}], 'vocabularies': [{'id_vocabulary': 20, 'name': 'Universo'}, {'id_vocabulary': 21, 'name': 'Temática'}, {'id_vocabulary': 22, 'name': 'Área'}]}, {'name': 'Resultado_Subasta_Anual_FRA', 'id': 88, 'horizon': 'A', 'archive_type': 'xls', 'download': {'name': 'Resultado_Subasta_Anual_FRA', 'url': '/archives/88/download?date_type=datos&end_date=2024-03-13T23%3A59%3A59%2B00%3A00&locale=es&start_date=2023-09-16T00%3A00%3A00%2B00%3A00'}, 'date': {'date_type': 'datos', 'start_date': '2023-09-16T00:00:00.000+00:00', 'end_date': '2024-03-13T23:59:59.000+00:00'}, 'date_times': ['2023-01-01', '2024-12-31'], 'publication_date': ['2022-12-15', '2023-12-18'], 'taxonomy_terms': [{'id_taxonomy_term': 156, 'name': 'Mercados y precios', 'vocabulary_id': 20}, {'id_taxonomy_term': 165, 'name': 'Descargas', 'vocabulary_id': 21}, {'id_taxonomy_term': 182, 'name': 'Subastas explícitas', 'vocabulary_id': 22}], 'vocabularies': [{'id_vocabulary': 20, 'name': 'Universo'}, {'id_vocabulary': 21, 'name': 'Temática'}, {'id_vocabulary': 22, 'name': 'Área'}]}, {'name': 'Resultado_Subasta_Mensual_FRA', 'id': 87, 'horizon': 'M', 'archive_type': 'xls', 'download': {'name': 'Resultado_Subasta_Mensual_FRA', 'url': '/archives/87/download?date_type=datos&end_date=2024-03-13T23%3A59%3A59%2B00%3A00&locale=es&start_date=2023-09-16T00%3A00%3A00%2B00%3A00'}, 'date': {'date_type': 'datos', 'start_date': '2023-09-16T00:00:00.000+00:00', 'end_date': '2024-03-13T23:59:59.000+00:00'}, 'date_times': ['2023-09-01', '2024-03-31'], 'publication_date': ['2023-08-24', '2024-02-22'], 'taxonomy_terms': [{'id_taxonomy_term': 156, 'name': 'Mercados y precios', 'vocabulary_id': 20}, {'id_taxonomy_term': 165, 'name': 'Descargas', 'vocabulary_id': 21}, {'id_taxonomy_term': 182, 'name': 'Subastas explícitas', 'vocabulary_id': 22}], 'vocabularies': [{'id_vocabulary': 20, 'name': 'Universo'}, {'id_vocabulary': 21, 'name': 'Temática'}, {'id_vocabulary': 22, 'name': 'Área'}]}, {'name': 'Descargos_FRA_Planificados', 'id': 95, 'horizon': 'O', 'archive_type': 'xml', 'download': {'name': 'Descargos_FRA_Planificados', 'url': '/archives/95/download?date_type=datos&end_date=2024-03-13T23%3A59%3A59%2B00%3A00&locale=es&start_date=2023-09-16T00%3A00%3A00%2B00%3A00'}, 'date': {'date_type': 'datos', 'start_date': '2023-09-16T00:00:00.000+00:00', 'end_date': '2024-03-13T23:59:59.000+00:00'}, 'date_times': ['2023-09-01', '2024-03-29'], 'publication_date': ['2023-08-18', '2024-03-07'], 'taxonomy_terms': [{'id_taxonomy_term': 155, 'name': 'Generación y consumo', 'vocabulary_id': 20}, {'id_taxonomy_term': 165, 'name': 'Descargas', 'vocabulary_id': 21}, {'id_taxonomy_term': 170, 'name': 'Intercambios internacionales', 'vocabulary_id': 22}], 'vocabularies': [{'id_vocabulary': 20, 'name': 'Universo'}, {'id_vocabulary': 21, 'name': 'Temática'}, {'id_vocabulary': 22, 'name': 'Área'}]}, {'name': 'Descargos_POR_Planificados', 'id': 93, 'horizon': 'O', 'archive_type': 'xml', 'download': {'name': 'Descargos_POR_Planificados', 'url': '/archives/93/download?date_type=datos&end_date=2024-03-13T23%3A59%3A59%2B00%3A00&locale=es&start_date=2023-09-16T00%3A00%3A00%2B00%3A00'}, 'date': {'date_type': 'datos', 'start_date': '2023-09-16T00:00:00.000+00:00', 'end_date': '2024-03-13T23:59:59.000+00:00'}, 'date_times': ['2023-09-04', '2024-12-22'], 'publication_date': ['2023-05-19', '2024-03-07'], 'taxonomy_terms': [{'id_taxonomy_term': 155, 'name': 'Generación y consumo', 'vocabulary_id': 20}, {'id_taxonomy_term': 165, 'name': 'Descargas', 'vocabulary_id': 21}, {'id_taxonomy_term': 170, 'name': 'Intercambios internacionales', 'vocabulary_id': 22}], 'vocabularies': [{'id_vocabulary': 20, 'name': 'Universo'}, {'id_vocabulary': 21, 'name': 'Temática'}, {'id_vocabulary': 22, 'name': 'Área'}]}, {'name': 'Descargos_MAR_Planificados', 'id': 91, 'horizon': 'O', 'archive_type': 'xml', 'download': {'name': 'Descargos_MAR_Planificados', 'url': '/archives/91/download?date_type=datos&end_date=2024-03-13T23%3A59%3A59%2B00%3A00&locale=es&start_date=2023-09-16T00%3A00%3A00%2B00%3A00'}, 'date': {'date_type': 'datos', 'start_date': '2023-09-16T00:00:00.000+00:00', 'end_date': '2024-03-13T23:59:59.000+00:00'}, 'date_times': ['2023-09-30', '2024-01-28'], 'publication_date': ['2023-09-28', '2024-01-25'], 'taxonomy_terms': [{'id_taxonomy_term': 155, 'name': 'Generación y consumo', 'vocabulary_id': 20}, {'id_taxonomy_term': 165, 'name': 'Descargas', 'vocabulary_id': 21}, {'id_taxonomy_term': 170, 'name': 'Intercambios internacionales', 'vocabulary_id': 22}], 'vocabularies': [{'id_vocabulary': 20, 'name': 'Universo'}, {'id_vocabulary': 21, 'name': 'Temática'}, {'id_vocabulary': 22, 'name': 'Área'}]}, {'name': 'REE_AggGenOutput', 'id': 108, 'horizon': 'QM', 'archive_type': 'xml', 'download': {'name': 'REE_AggGenOutput', 'url': '/archives/108/download?date_type=datos&end_date=2024-03-13T23%3A59%3A59%2B00%3A00&locale=es&start_date=2023-09-16T00%3A00%3A00%2B00%3A00'}, 'date': {'date_type': 'datos', 'start_date': '2023-09-16T00:00:00.000+00:00', 'end_date': '2024-03-13T23:59:59.000+00:00'}, 'date_times': ['2023-09-16', '2024-03-13'], 'publication_date': ['2023-09-16', '2024-03-14'], 'taxonomy_terms': [{'id_taxonomy_term': 155, 'name': 'Generación y consumo', 'vocabulary_id': 20}, {'id_taxonomy_term': 165, 'name': 'Descargas', 'vocabulary_id': 21}, {'id_taxonomy_term': 168, 'name': 'General', 'vocabulary_id': 22}], 'vocabularies': [{'id_vocabulary': 20, 'name': 'Universo'}, {'id_vocabulary': 21, 'name': 'Temática'}, {'id_vocabulary': 22, 'name': 'Área'}]}, {'name': 'REE_InterChangeAvailab_FRA', 'id': 101, 'horizon': 'O', 'archive_type': 'xml', 'download': {'name': 'REE_InterChangeAvailab_FRA', 'url': '/archives/101/download?date_type=datos&end_date=2024-03-13T23%3A59%3A59%2B00%3A00&locale=es&start_date=2023-09-16T00%3A00%3A00%2B00%3A00'}, 'date': {'date_type': 'datos', 'start_date': '2023-09-16T00:00:00.000+00:00', 'end_date': '2024-03-13T23:59:59.000+00:00'}, 'date_times': ['2023-09-28', '2023-09-29'], 'publication_date': ['2023-09-28', '2023-09-29'], 'taxonomy_terms': [{'id_taxonomy_term': 155, 'name': 'Generación y consumo', 'vocabulary_id': 20}, {'id_taxonomy_term': 165, 'name': 'Descargas', 'vocabulary_id': 21}, {'id_taxonomy_term': 170, 'name': 'Intercambios internacionales', 'vocabulary_id': 22}], 'vocabularies': [{'id_vocabulary': 20, 'name': 'Universo'}, {'id_vocabulary': 21, 'name': 'Temática'}, {'id_vocabulary': 22, 'name': 'Área'}]}, {'name': 'IMES', 'id': 33, 'horizon': 'M', 'archive_type': 'zip', 'download': {'name': 'IMES', 'url': '/archives/33/download?date_type=datos&end_date=2024-03-13T23%3A59%3A59%2B00%3A00&locale=es&start_date=2023-09-16T00%3A00%3A00%2B00%3A00'}, 'date': {'date_type': 'datos', 'start_date': '2023-09-16T00:00:00.000+00:00', 'end_date': '2024-03-13T23:59:59.000+00:00'}, 'date_times': ['2023-09-01', '2024-01-31'], 'publication_date': ['2023-11-23', '2024-03-01'], 'taxonomy_terms': [{'id_taxonomy_term': 155, 'name': 'Generación y consumo', 'vocabulary_id': 20}, {'id_taxonomy_term': 156, 'name': 'Mercados y precios', 'vocabulary_id': 20}, {'id_taxonomy_term': 165, 'name': 'Descargas', 'vocabulary_id': 21}, {'id_taxonomy_term': 168, 'name': 'General', 'vocabulary_id': 22}], 'vocabularies': [{'id_vocabulary': 20, 'name': 'Universo'}, {'id_vocabulary': 21, 'name': 'Temática'}, {'id_vocabulary': 22, 'name': 'Área'}]}, {'name': 'I90DIA', 'id': 34, 'horizon': 'D', 'archive_type': 'zip', 'download': {'name': 'I90DIA', 'url': '/archives/34/download?date_type=datos&end_date=2024-03-13T23%3A59%3A59%2B00%3A00&locale=es&start_date=2023-09-16T00%3A00%3A00%2B00%3A00'}, 'date': {'date_type': 'datos', 'start_date': '2023-09-16T00:00:00.000+00:00', 'end_date': '2024-03-13T23:59:59.000+00:00'}, 'date_times': ['2023-09-16', '2023-12-15'], 'publication_date': ['2023-12-15', '2024-03-14'], 'taxonomy_terms': [{'id_taxonomy_term': 155, 'name': 'Generación y consumo', 'vocabulary_id': 20}, {'id_taxonomy_term': 156, 'name': 'Mercados y precios', 'vocabulary_id': 20}, {'id_taxonomy_term': 165, 'name': 'Descargas', 'vocabulary_id': 21}, {'id_taxonomy_term': 168, 'name': 'General', 'vocabulary_id': 22}], 'vocabularies': [{'id_vocabulary': 20, 'name': 'Universo'}, {'id_vocabulary': 21, 'name': 'Temática'}, {'id_vocabulary': 22, 'name': 'Área'}]}, {'name': 'I3DIA', 'id': 32, 'horizon': 'D', 'archive_type': 'zip', 'download': {'name': 'I3DIA', 'url': '/archives/32/download?date_type=datos&end_date=2024-03-13T23%3A59%3A59%2B00%3A00&locale=es&start_date=2023-09-16T00%3A00%3A00%2B00%3A00'}, 'date': {'date_type': 'datos', 'start_date': '2023-09-16T00:00:00.000+00:00', 'end_date': '2024-03-13T23:59:59.000+00:00'}, 'date_times': ['2023-09-16', '2024-03-10'], 'publication_date': ['2023-09-20', '2024-03-14'], 'taxonomy_terms': [{'id_taxonomy_term': 155, 'name': 'Generación y consumo', 'vocabulary_id': 20}, {'id_taxonomy_term': 156, 'name': 'Mercados y precios', 'vocabulary_id': 20}, {'id_taxonomy_term': 165, 'name': 'Descargas', 'vocabulary_id': 21}, {'id_taxonomy_term': 168, 'name': 'General', 'vocabulary_id': 22}], 'vocabularies': [{'id_vocabulary': 20, 'name': 'Universo'}, {'id_vocabulary': 21, 'name': 'Temática'}, {'id_vocabulary': 22, 'name': 'Área'}]}, {'name': 'totalpdvp', 'id': 20, 'horizon': 'D', 'archive_type': 'xml', 'download': {'name': 'totalpdvp', 'url': '/archives/20/download?date_type=datos&end_date=2024-03-13T23%3A59%3A59%2B00%3A00&locale=es&start_date=2023-09-16T00%3A00%3A00%2B00%3A00'}, 'date': {'date_type': 'datos', 'start_date': '2023-09-16T00:00:00.000+00:00', 'end_date': '2024-03-13T23:59:59.000+00:00'}, 'date_times': ['2023-09-16', '2024-03-13'], 'publication_date': ['2023-09-15', '2024-03-12'], 'taxonomy_terms': [{'id_taxonomy_term': 155, 'name': 'Generación y consumo', 'vocabulary_id': 20}, {'id_taxonomy_term': 165, 'name': 'Descargas', 'vocabulary_id': 21}, {'id_taxonomy_term': 176, 'name': 'Programas', 'vocabulary_id': 22}], 'vocabularies': [{'id_vocabulary': 20, 'name': 'Universo'}, {'id_vocabulary': 21, 'name': 'Temática'}, {'id_vocabulary': 22, 'name': 'Área'}]}, {'name': 'PVPC_DETALLE_DD', 'id': 71, 'horizon': 'D', 'archive_type': 'xls', 'download': {'name': 'PVPC_DETALLE_DD', 'url': '/archives/71/download?date_type=datos&end_date=2024-03-13T23%3A59%3A59%2B00%3A00&locale=es&start_date=2023-09-16T00%3A00%3A00%2B00%3A00'}, 'date': {'date_type': 'datos', 'start_date': '2023-09-16T00:00:00.000+00:00', 'end_date': '2024-03-13T23:59:59.000+00:00'}, 'date_times': ['2023-09-16', '2024-03-13'], 'publication_date': ['2023-09-15', '2024-03-12'], 'taxonomy_terms': [{'id_taxonomy_term': 156, 'name': 'Mercados y precios', 'vocabulary_id': 20}, {'id_taxonomy_term': 165, 'name': 'Descargas', 'vocabulary_id': 21}, {'id_taxonomy_term': 177, 'name': 'PVPC', 'vocabulary_id': 22}], 'vocabularies': [{'id_vocabulary': 20, 'name': 'Universo'}, {'id_vocabulary': 21, 'name': 'Temática'}, {'id_vocabulary': 22, 'name': 'Área'}]}, {'name': 'pvpcdesglosehorario', 'id': 80, 'horizon': 'D', 'archive_type': 'xml', 'download': {'name': 'pvpcdesglosehorario', 'url': '/archives/80/download?date_type=datos&end_date=2024-03-13T23%3A59%3A59%2B00%3A00&locale=es&start_date=2023-09-16T00%3A00%3A00%2B00%3A00'}, 'date': {'date_type': 'datos', 'start_date': '2023-09-16T00:00:00.000+00:00', 'end_date': '2024-03-13T23:59:59.000+00:00'}, 'date_times': ['2023-09-16', '2024-03-13'], 'publication_date': ['2023-09-15', '2024-03-12'], 'taxonomy_terms': [{'id_taxonomy_term': 156, 'name': 'Mercados y precios', 'vocabulary_id': 20}, {'id_taxonomy_term': 165, 'name': 'Descargas', 'vocabulary_id': 21}, {'id_taxonomy_term': 177, 'name': 'PVPC', 'vocabulary_id': 22}], 'vocabularies': [{'id_vocabulary': 20, 'name': 'Universo'}, {'id_vocabulary': 21, 'name': 'Temática'}, {'id_vocabulary': 22, 'name': 'Área'}]}, {'name': 'perfilconsumo', 'id': 78, 'horizon': 'S', 'archive_type': 'xml', 'download': {'name': 'perfilconsumo', 'url': '/archives/78/download?date_type=datos&end_date=2024-03-13T23%3A59%3A59%2B00%3A00&locale=es&start_date=2023-09-16T00%3A00%3A00%2B00%3A00'}, 'date': {'date_type': 'datos', 'start_date': '2023-09-16T00:00:00.000+00:00', 'end_date': '2024-03-13T23:59:59.000+00:00'}, 'date_times': ['2023-09-16', '2024-03-15'], 'publication_date': ['2023-09-14', '2024-03-07'], 'taxonomy_terms': [{'id_taxonomy_term': 156, 'name': 'Mercados y precios', 'vocabulary_id': 20}, {'id_taxonomy_term': 165, 'name': 'Descargas', 'vocabulary_id': 21}, {'id_taxonomy_term': 177, 'name': 'PVPC', 'vocabulary_id': 22}], 'vocabularies': [{'id_vocabulary': 20, 'name': 'Universo'}, {'id_vocabulary': 21, 'name': 'Temática'}, {'id_vocabulary': 22, 'name': 'Área'}]}, {'name': 'preciovoluntariopconsumidor', 'id': 79, 'horizon': 'D', 'archive_type': 'xml', 'download': {'name': 'preciovoluntariopconsumidor', 'url': '/archives/79/download?date_type=datos&end_date=2024-03-13T23%3A59%3A59%2B00%3A00&locale=es&start_date=2023-09-16T00%3A00%3A00%2B00%3A00'}, 'date': {'date_type': 'datos', 'start_date': '2023-09-16T00:00:00.000+00:00', 'end_date': '2024-03-13T23:59:59.000+00:00'}, 'date_times': ['2023-09-16', '2024-03-13'], 'publication_date': ['2023-09-15', '2024-03-12'], 'taxonomy_terms': [{'id_taxonomy_term': 156, 'name': 'Mercados y precios', 'vocabulary_id': 20}, {'id_taxonomy_term': 165, 'name': 'Descargas', 'vocabulary_id': 21}, {'id_taxonomy_term': 177, 'name': 'PVPC', 'vocabulary_id': 22}], 'vocabularies': [{'id_vocabulary': 20, 'name': 'Universo'}, {'id_vocabulary': 21, 'name': 'Temática'}, {'id_vocabulary': 22, 'name': 'Área'}]}, {'name': 'INF_SUBASTA_MM', 'id': 69, 'horizon': 'M', 'archive_type': 'pdf', 'download': {'name': 'INF_SUBASTA_MM', 'url': '/archives/69/download?date_type=datos&end_date=2024-03-13T23%3A59%3A59%2B00%3A00&locale=es&start_date=2023-09-16T00%3A00%3A00%2B00%3A00'}, 'date': {'date_type': 'datos', 'start_date': '2023-09-16T00:00:00.000+00:00', 'end_date': '2024-03-13T23:59:59.000+00:00'}, 'date_times': ['2023-09-01', '2024-03-31'], 'publication_date': ['2023-08-24', '2024-02-22'], 'taxonomy_terms': [{'id_taxonomy_term': 156, 'name': 'Mercados y precios', 'vocabulary_id': 20}, {'id_taxonomy_term': 165, 'name': 'Descargas', 'vocabulary_id': 21}, {'id_taxonomy_term': 182, 'name': 'Subastas explícitas', 'vocabulary_id': 22}], 'vocabularies': [{'id_vocabulary': 20, 'name': 'Universo'}, {'id_vocabulary': 21, 'name': 'Temática'}, {'id_vocabulary': 22, 'name': 'Área'}]}, {'name': 'A1_liquicomun', 'id': 2, 'horizon': 'M', 'archive_type': 'zip', 'download': {'name': 'A1_liquicomun', 'url': '/archives/2/download?date_type=datos&end_date=2024-03-13T23%3A59%3A59%2B00%3A00&locale=es&start_date=2023-09-16T00%3A00%3A00%2B00%3A00'}, 'date': {'date_type': 'datos', 'start_date': '2023-09-16T00:00:00.000+00:00', 'end_date': '2024-03-13T23:59:59.000+00:00'}, 'date_times': ['2024-03-01', '2024-03-31'], 'publication_date': ['2024-03-13'], 'taxonomy_terms': [{'id_taxonomy_term': 156, 'name': 'Mercados y precios', 'vocabulary_id': 20}, {'id_taxonomy_term': 165, 'name': 'Descargas', 'vocabulary_id': 21}, {'id_taxonomy_term': 172, 'name': 'Liquidaciones', 'vocabulary_id': 22}], 'vocabularies': [{'id_vocabulary': 20, 'name': 'Universo'}, {'id_vocabulary': 21, 'name': 'Temática'}, {'id_vocabulary': 22, 'name': 'Área'}]}, {'name': 'C2_liquicomun', 'id': 8, 'horizon': 'M', 'archive_type': 'zip', 'download': {'name': 'C2_liquicomun', 'url': '/archives/8/download?date_type=datos&end_date=2024-03-13T23%3A59%3A59%2B00%3A00&locale=es&start_date=2023-09-16T00%3A00%3A00%2B00%3A00'}, 'date': {'date_type': 'datos', 'start_date': '2023-09-16T00:00:00.000+00:00', 'end_date': '2024-03-13T23:59:59.000+00:00'}, 'date_times': ['2023-09-01', '2024-02-29'], 'publication_date': ['2023-10-10', '2024-03-11'], 'taxonomy_terms': [{'id_taxonomy_term': 156, 'name': 'Mercados y precios', 'vocabulary_id': 20}, {'id_taxonomy_term': 165, 'name': 'Descargas', 'vocabulary_id': 21}, {'id_taxonomy_term': 172, 'name': 'Liquidaciones', 'vocabulary_id': 22}], 'vocabularies': [{'id_vocabulary': 20, 'name': 'Universo'}, {'id_vocabulary': 21, 'name': 'Temática'}, {'id_vocabulary': 22, 'name': 'Área'}]}, {'name': 'C3_liquicomun', 'id': 9, 'horizon': 'M', 'archive_type': 'zip', 'download': {'name': 'C3_liquicomun', 'url': '/archives/9/download?date_type=datos&end_date=2024-03-13T23%3A59%3A59%2B00%3A00&locale=es&start_date=2023-09-16T00%3A00%3A00%2B00%3A00'}, 'date': {'date_type': 'datos', 'start_date': '2023-09-16T00:00:00.000+00:00', 'end_date': '2024-03-13T23:59:59.000+00:00'}, 'date_times': ['2023-09-01', '2023-12-31'], 'publication_date': ['2023-12-13', '2024-03-11'], 'taxonomy_terms': [{'id_taxonomy_term': 156, 'name': 'Mercados y precios', 'vocabulary_id': 20}, {'id_taxonomy_term': 165, 'name': 'Descargas', 'vocabulary_id': 21}, {'id_taxonomy_term': 172, 'name': 'Liquidaciones', 'vocabulary_id': 22}], 'vocabularies': [{'id_vocabulary': 20, 'name': 'Universo'}, {'id_vocabulary': 21, 'name': 'Temática'}, {'id_vocabulary': 22, 'name': 'Área'}]}, {'name': 'liquicierre', 'id': 17, 'horizon': 'D', 'archive_type': 'xml', 'download': {'name': 'liquicierre', 'url': '/archives/17/download?date_type=datos&end_date=2024-03-13T23%3A59%3A59%2B00%3A00&locale=es&start_date=2023-09-16T00%3A00%3A00%2B00%3A00'}, 'date': {'date_type': 'datos', 'start_date': '2023-09-16T00:00:00.000+00:00', 'end_date': '2024-03-13T23:59:59.000+00:00'}, 'date_times': ['2023-09-16', '2023-12-15'], 'publication_date': ['2023-12-15', '2024-03-14'], 'taxonomy_terms': [{'id_taxonomy_term': 156, 'name': 'Mercados y precios', 'vocabulary_id': 20}, {'id_taxonomy_term': 165, 'name': 'Descargas', 'vocabulary_id': 21}, {'id_taxonomy_term': 166, 'name': 'Regulación Secundaria', 'vocabulary_id': 22}], 'vocabularies': [{'id_vocabulary': 20, 'name': 'Universo'}, {'id_vocabulary': 21, 'name': 'Temática'}, {'id_vocabulary': 22, 'name': 'Área'}]}, {'name': 'totalp48', 'id': 29, 'horizon': 'H', 'archive_type': 'xml', 'download': {'name': 'totalp48', 'url': '/archives/29/download?date_type=datos&end_date=2024-03-13T23%3A59%3A59%2B00%3A00&locale=es&start_date=2023-09-16T00%3A00%3A00%2B00%3A00'}, 'date': {'date_type': 'datos', 'start_date': '2023-09-16T00:00:00.000+00:00', 'end_date': '2024-03-13T23:59:59.000+00:00'}, 'date_times': ['2023-09-16', '2024-03-13'], 'publication_date': ['2023-09-16', '2024-03-13'], 'taxonomy_terms': [{'id_taxonomy_term': 155, 'name': 'Generación y consumo', 'vocabulary_id': 20}, {'id_taxonomy_term': 165, 'name': 'Descargas', 'vocabulary_id': 21}, {'id_taxonomy_term': 176, 'name': 'Programas', 'vocabulary_id': 22}], 'vocabularies': [{'id_vocabulary': 20, 'name': 'Universo'}, {'id_vocabulary': 21, 'name': 'Temática'}, {'id_vocabulary': 22, 'name': 'Área'}]}, {'name': 'totalp48cierre', 'id': 30, 'horizon': 'D', 'archive_type': 'xml', 'download': {'name': 'totalp48cierre', 'url': '/archives/30/download?date_type=datos&end_date=2024-03-13T23%3A59%3A59%2B00%3A00&locale=es&start_date=2023-09-16T00%3A00%3A00%2B00%3A00'}, 'date': {'date_type': 'datos', 'start_date': '2023-09-16T00:00:00.000+00:00', 'end_date': '2024-03-13T23:59:59.000+00:00'}, 'date_times': ['2023-09-16', '2024-03-13'], 'publication_date': ['2023-09-17', '2024-03-14'], 'taxonomy_terms': [{'id_taxonomy_term': 155, 'name': 'Generación y consumo', 'vocabulary_id': 20}, {'id_taxonomy_term': 165, 'name': 'Descargas', 'vocabulary_id': 21}, {'id_taxonomy_term': 176, 'name': 'Programas', 'vocabulary_id': 22}], 'vocabularies': [{'id_vocabulary': 20, 'name': 'Universo'}, {'id_vocabulary': 21, 'name': 'Temática'}, {'id_vocabulary': 22, 'name': 'Área'}]}, {'name': 'totalrp48prec', 'id': 27, 'horizon': 'H', 'archive_type': 'xml', 'download': {'name': 'totalrp48prec', 'url': '/archives/27/download?date_type=datos&end_date=2024-03-13T23%3A59%3A59%2B00%3A00&locale=es&start_date=2023-09-16T00%3A00%3A00%2B00%3A00'}, 'date': {'date_type': 'datos', 'start_date': '2023-09-16T00:00:00.000+00:00', 'end_date': '2024-03-13T23:59:59.000+00:00'}, 'date_times': ['2023-09-16', '2024-03-13'], 'publication_date': ['2023-09-16', '2024-03-13'], 'taxonomy_terms': [{'id_taxonomy_term': 156, 'name': 'Mercados y precios', 'vocabulary_id': 20}, {'id_taxonomy_term': 165, 'name': 'Descargas', 'vocabulary_id': 21}, {'id_taxonomy_term': 180, 'name': 'Restricciones', 'vocabulary_id': 22}], 'vocabularies': [{'id_vocabulary': 20, 'name': 'Universo'}, {'id_vocabulary': 21, 'name': 'Temática'}, {'id_vocabulary': 22, 'name': 'Área'}]}, {'name': 'totalrp48preccierre', 'id': 28, 'horizon': 'D', 'archive_type': 'xml', 'download': {'name': 'totalrp48preccierre', 'url': '/archives/28/download?date_type=datos&end_date=2024-03-13T23%3A59%3A59%2B00%3A00&locale=es&start_date=2023-09-16T00%3A00%3A00%2B00%3A00'}, 'date': {'date_type': 'datos', 'start_date': '2023-09-16T00:00:00.000+00:00', 'end_date': '2024-03-13T23:59:59.000+00:00'}, 'date_times': ['2023-09-16', '2024-03-13'], 'publication_date': ['2023-09-17', '2024-03-14'], 'taxonomy_terms': [{'id_taxonomy_term': 156, 'name': 'Mercados y precios', 'vocabulary_id': 20}, {'id_taxonomy_term': 165, 'name': 'Descargas', 'vocabulary_id': 21}, {'id_taxonomy_term': 180, 'name': 'Restricciones', 'vocabulary_id': 22}], 'vocabularies': [{'id_vocabulary': 20, 'name': 'Universo'}, {'id_vocabulary': 21, 'name': 'Temática'}, {'id_vocabulary': 22, 'name': 'Área'}]}, {'name': 'totalliquicierre', 'id': 26, 'horizon': 'D', 'archive_type': 'xml', 'download': {'name': 'totalliquicierre', 'url': '/archives/26/download?date_type=datos&end_date=2024-03-13T23%3A59%3A59%2B00%3A00&locale=es&start_date=2023-09-16T00%3A00%3A00%2B00%3A00'}, 'date': {'date_type': 'datos', 'start_date': '2023-09-16T00:00:00.000+00:00', 'end_date': '2024-03-13T23:59:59.000+00:00'}, 'date_times': ['2023-09-16', '2024-03-13'], 'publication_date': ['2023-09-17', '2024-03-14'], 'taxonomy_terms': [{'id_taxonomy_term': 156, 'name': 'Mercados y precios', 'vocabulary_id': 20}, {'id_taxonomy_term': 165, 'name': 'Descargas', 'vocabulary_id': 21}, {'id_taxonomy_term': 166, 'name': 'Regulación Secundaria', 'vocabulary_id': 22}], 'vocabularies': [{'id_vocabulary': 20, 'name': 'Universo'}, {'id_vocabulary': 21, 'name': 'Temática'}, {'id_vocabulary': 22, 'name': 'Área'}]}, {'name': 'totalenersec', 'id': 25, 'horizon': 'D', 'archive_type': 'xml', 'download': {'name': 'totalenersec', 'url': '/archives/25/download?date_type=datos&end_date=2024-03-13T23%3A59%3A59%2B00%3A00&locale=es&start_date=2023-09-16T00%3A00%3A00%2B00%3A00'}, 'date': {'date_type': 'datos', 'start_date': '2023-09-16T00:00:00.000+00:00', 'end_date': '2024-03-13T23:59:59.000+00:00'}, 'date_times': ['2023-09-16', '2024-03-13'], 'publication_date': ['2023-09-17', '2024-03-14'], 'taxonomy_terms': [{'id_taxonomy_term': 156, 'name': 'Mercados y precios', 'vocabulary_id': 20}, {'id_taxonomy_term': 165, 'name': 'Descargas', 'vocabulary_id': 21}, {'id_taxonomy_term': 166, 'name': 'Regulación Secundaria', 'vocabulary_id': 22}], 'vocabularies': [{'id_vocabulary': 20, 'name': 'Universo'}, {'id_vocabulary': 21, 'name': 'Temática'}, {'id_vocabulary': 22, 'name': 'Área'}]}, {'name': 'totalasigsec', 'id': 21, 'horizon': 'D', 'archive_type': 'xml', 'download': {'name': 'totalasigsec', 'url': '/archives/21/download?date_type=datos&end_date=2024-03-13T23%3A59%3A59%2B00%3A00&locale=es&start_date=2023-09-16T00%3A00%3A00%2B00%3A00'}, 'date': {'date_type': 'datos', 'start_date': '2023-09-16T00:00:00.000+00:00', 'end_date': '2024-03-13T23:59:59.000+00:00'}, 'date_times': ['2023-09-16', '2024-03-13'], 'publication_date': ['2023-09-16', '2024-03-12'], 'taxonomy_terms': [{'id_taxonomy_term': 156, 'name': 'Mercados y precios', 'vocabulary_id': 20}, {'id_taxonomy_term': 165, 'name': 'Descargas', 'vocabulary_id': 21}, {'id_taxonomy_term': 166, 'name': 'Regulación Secundaria', 'vocabulary_id': 22}], 'vocabularies': [{'id_vocabulary': 20, 'name': 'Universo'}, {'id_vocabulary': 21, 'name': 'Temática'}, {'id_vocabulary': 22, 'name': 'Área'}]}, {'name': 'p48cierre', 'id': 107, 'horizon': 'D', 'archive_type': 'xml', 'download': {'name': 'p48cierre', 'url': '/archives/107/download?date_type=datos&end_date=2024-03-13T23%3A59%3A59%2B00%3A00&locale=es&start_date=2023-09-16T00%3A00%3A00%2B00%3A00'}, 'date': {'date_type': 'datos', 'start_date': '2023-09-16T00:00:00.000+00:00', 'end_date': '2024-03-13T23:59:59.000+00:00'}, 'date_times': ['2023-09-16', '2024-03-13'], 'publication_date': ['2023-09-17', '2024-03-14'], 'taxonomy_terms': [{'id_taxonomy_term': 155, 'name': 'Generación y consumo', 'vocabulary_id': 20}, {'id_taxonomy_term': 165, 'name': 'Descargas', 'vocabulary_id': 21}, {'id_taxonomy_term': 176, 'name': 'Programas', 'vocabulary_id': 22}], 'vocabularies': [{'id_vocabulary': 20, 'name': 'Universo'}, {'id_vocabulary': 21, 'name': 'Temática'}, {'id_vocabulary': 22, 'name': 'Área'}]}, {'name': 'totalrpdvpprec', 'id': 19, 'horizon': 'D', 'archive_type': 'xml', 'download': {'name': 'totalrpdvpprec', 'url': '/archives/19/download?date_type=datos&end_date=2024-03-13T23%3A59%3A59%2B00%3A00&locale=es&start_date=2023-09-16T00%3A00%3A00%2B00%3A00'}, 'date': {'date_type': 'datos', 'start_date': '2023-09-16T00:00:00.000+00:00', 'end_date': '2024-03-13T23:59:59.000+00:00'}, 'date_times': ['2023-09-16', '2024-03-13'], 'publication_date': ['2023-09-15', '2024-03-12'], 'taxonomy_terms': [{'id_taxonomy_term': 156, 'name': 'Mercados y precios', 'vocabulary_id': 20}, {'id_taxonomy_term': 165, 'name': 'Descargas', 'vocabulary_id': 21}, {'id_taxonomy_term': 180, 'name': 'Restricciones', 'vocabulary_id': 22}], 'vocabularies': [{'id_vocabulary': 20, 'name': 'Universo'}, {'id_vocabulary': 21, 'name': 'Temática'}, {'id_vocabulary': 22, 'name': 'Área'}]}, {'name': 'totalpdbf', 'id': 18, 'horizon': 'D', 'archive_type': 'xml', 'download': {'name': 'totalpdbf', 'url': '/archives/18/download?date_type=datos&end_date=2024-03-13T23%3A59%3A59%2B00%3A00&locale=es&start_date=2023-09-16T00%3A00%3A00%2B00%3A00'}, 'date': {'date_type': 'datos', 'start_date': '2023-09-16T00:00:00.000+00:00', 'end_date': '2024-03-13T23:59:59.000+00:00'}, 'date_times': ['2023-09-16', '2024-03-13'], 'publication_date': ['2023-09-15', '2024-03-12'], 'taxonomy_terms': [{'id_taxonomy_term': 155, 'name': 'Generación y consumo', 'vocabulary_id': 20}, {'id_taxonomy_term': 165, 'name': 'Descargas', 'vocabulary_id': 21}, {'id_taxonomy_term': 176, 'name': 'Programas', 'vocabulary_id': 22}], 'vocabularies': [{'id_vocabulary': 20, 'name': 'Universo'}, {'id_vocabulary': 21, 'name': 'Temática'}, {'id_vocabulary': 22, 'name': 'Área'}]}], 'meta': {'size': 51}}\n"
     ]
    }
   ],
   "source": [
    "# Authentication Setup\n",
    "api_key = \"c965de4dda51fe59aa6c522dcb519ed794e0082a3abe70d73ebd491c463da433\"\n",
    "headers = {\n",
    "    \"Accept\": \"application/json; application/vnd.esios-api-v1+json\",\n",
    "    \"Content-Type\": \"application/json\",\n",
    "    \"x-api-key\": api_key\n",
    "}\n",
    "\n",
    "# Send API Request\n",
    "response = requests.get(url, headers = headers)\n",
    "data = response.json()\n",
    "print(data)"
   ]
  },
  {
   "cell_type": "code",
   "execution_count": 7,
   "metadata": {},
   "outputs": [
    {
     "name": "stdout",
     "output_type": "stream",
     "text": [
      "/archives/187/download?date_type=datos&end_date=2024-03-13T23%3A59%3A59%2B00%3A00&locale=es&start_date=2023-09-16T00%3A00%3A00%2B00%3A00\n"
     ]
    }
   ],
   "source": [
    "# Accessing the Download Link\n",
    "download_link = data['archives'][0]['download']['url']\n",
    "print(download_link)"
   ]
  },
  {
   "cell_type": "code",
   "execution_count": 8,
   "metadata": {},
   "outputs": [
    {
     "name": "stdout",
     "output_type": "stream",
     "text": [
      "Data downloaded successfully!\n"
     ]
    }
   ],
   "source": [
    "base_url = \"https://api.esios.ree.es\"\n",
    "complete_download_link = f\"{base_url}{download_link}\"\n",
    "\n",
    "# Define the data folder path\n",
    "data_folder = \"Data\"\n",
    "\n",
    "# Check if the folder exists, create it if not\n",
    "if not os.path.exists(data_folder):\n",
    "    os.makedirs(data_folder)\n",
    "    \n",
    "# Downloading the Data:\n",
    "response = requests.get(complete_download_link)\n",
    "\n",
    "if response.status_code == 200:\n",
    "    # Download successful!\n",
    "    data_content = response.content  # Get the downloaded data as bytes\n",
    "\n",
    "    # Save the data to a file\n",
    "    with open('Data/downloaded_data.zip', 'wb') as f:\n",
    "        f.write(data_content)\n",
    "    print(\"Data downloaded successfully!\")\n",
    "else:\n",
    "    print(f\"Error downloading data: {response.status_code}\")"
   ]
  },
  {
   "cell_type": "code",
   "execution_count": 9,
   "metadata": {},
   "outputs": [
    {
     "name": "stdout",
     "output_type": "stream",
     "text": [
      "Data extracted successfully!\n"
     ]
    }
   ],
   "source": [
    "try:\n",
    "  # Open the zip file\n",
    "  with zipfile.ZipFile('Data/downloaded_data.zip', 'r') as zip_ref:\n",
    "    # Extract all files to the data folder\n",
    "    zip_ref.extractall(data_folder)\n",
    "    print(\"Data extracted successfully!\")\n",
    "except zipfile.BadZipFile as e:\n",
    "  print(f\"Error extracting data: {e}\")\n",
    "except Exception as e:  # Catch other potential exceptions\n",
    "  print(f\"Unexpected error: {e}\")"
   ]
  },
  {
   "cell_type": "code",
   "execution_count": 17,
   "metadata": {},
   "outputs": [
    {
     "name": "stdout",
     "output_type": "stream",
     "text": [
      "Found nested zip file: C2_PrecioFinal_202402.1.zip\n",
      "Found nested zip file: C2_PrecioFinal_202401.1.zip\n",
      "Found nested zip file: C2_PrecioFinal_202312.1.zip\n",
      "Found nested zip file: C2_PrecioFinal_202311.1.zip\n",
      "Found nested zip file: C2_PrecioFinal_202310.1.zip\n",
      "Found nested zip file: C2_PrecioFinal_202309.1.zip\n",
      "Extracted files:\n",
      "- PFMHORAS_TOD_20240201_20240229.xls\n",
      "- PFMHORAS_TOD_20240101_20240131.xls\n",
      "- PFMHORAS_TOD_20231201_20231231.xls\n",
      "- PFMHORAS_TOD_20231101_20231130.xls\n",
      "- PFMHORAS_TOD_20231001_20231031.xls\n",
      "- PFMHORAS_TOD_20230901_20230930.xls\n"
     ]
    }
   ],
   "source": [
    "def extract_nested_zip_files(nested_zip_filenames, data_folder, target_filename_pattern):\n",
    "    extracted_files = []\n",
    "\n",
    "    for filename in nested_zip_filenames:\n",
    "        if filename.startswith(\"C2_PrecioFinal\") and filename.endswith(\".zip\"):\n",
    "            # Extract nested zip temporarily within data_folder\n",
    "            nested_zip_file = os.path.join(data_folder, filename)  # Use os.path.join for joining paths\n",
    "            outer_zip.extract(filename, data_folder)  # Extract using the copied filename\n",
    "\n",
    "            with zipfile.ZipFile(nested_zip_file, 'r') as inner_zip:\n",
    "                for inner_info in inner_zip.infolist():\n",
    "                    if inner_info.filename.startswith(target_filename_pattern) and inner_info.filename.endswith(\".xls\"):\n",
    "                        extracted_files.append(inner_info.filename)\n",
    "                        inner_zip.extract(inner_info.filename, data_folder)\n",
    "\n",
    "            # os.remove(nested_zip_file)  # Remove the extracted nested zip\n",
    "\n",
    "    if extracted_files:\n",
    "        print(\"Extracted files:\")\n",
    "        for filename in extracted_files:\n",
    "            print(f\"- {filename}\")\n",
    "    else:\n",
    "        print(\"No files matching the target pattern were found.\")\n",
    "        \n",
    "nested_zip_filenames = []\n",
    "with zipfile.ZipFile('Data/downloaded_data.zip', 'r') as outer_zip:\n",
    "  for info in outer_zip.infolist():\n",
    "    if info.filename.startswith(\"C2_PrecioFinal\") and info.filename.endswith(\".zip\"):\n",
    "      print(f\"Found nested zip file: {info.filename}\")  # Print for verification\n",
    "      nested_zip_filenames.append(info.filename)  # Store filenames\n",
    "  \n",
    "  # Define target pattern\n",
    "  target_filename_pattern = \"PFMHORAS_TOD_\"\n",
    "  # Extract files\n",
    "  extract_nested_zip_files(nested_zip_filenames, data_folder, target_filename_pattern)"
   ]
  },
  {
   "cell_type": "code",
   "execution_count": 18,
   "metadata": {},
   "outputs": [
    {
     "name": "stdout",
     "output_type": "stream",
     "text": [
      "['Data\\\\PFMHORAS_TOD_20230901_20230930.xls', 'Data\\\\PFMHORAS_TOD_20231001_20231031.xls', 'Data\\\\PFMHORAS_TOD_20231101_20231130.xls', 'Data\\\\PFMHORAS_TOD_20231201_20231231.xls', 'Data\\\\PFMHORAS_TOD_20240101_20240131.xls', 'Data\\\\PFMHORAS_TOD_20240201_20240229.xls']\n"
     ]
    }
   ],
   "source": [
    "# Getting xls file paths\n",
    "file_paths = []\n",
    "for filename in os.listdir(data_folder):\n",
    "    if filename.startswith(\"PFMHORAS_TOD_\") and filename.endswith(\".xls\"):  # Adjust filter logic\n",
    "        file_path = os.path.join(data_folder, filename)\n",
    "        file_paths.append(file_path)\n",
    "\n",
    "print(file_paths)"
   ]
  },
  {
   "cell_type": "code",
   "execution_count": 26,
   "metadata": {},
   "outputs": [
    {
     "data": {
      "text/html": [
       "<div>\n",
       "<style scoped>\n",
       "    .dataframe tbody tr th:only-of-type {\n",
       "        vertical-align: middle;\n",
       "    }\n",
       "\n",
       "    .dataframe tbody tr th {\n",
       "        vertical-align: top;\n",
       "    }\n",
       "\n",
       "    .dataframe thead th {\n",
       "        text-align: right;\n",
       "    }\n",
       "</style>\n",
       "<table border=\"1\" class=\"dataframe\">\n",
       "  <thead>\n",
       "    <tr style=\"text-align: right;\">\n",
       "      <th></th>\n",
       "      <th>Día</th>\n",
       "      <th>Periodo</th>\n",
       "      <th>Energía \\nfinal \\nMWh</th>\n",
       "      <th>Mercado \\ndiario \\n€/MWh</th>\n",
       "      <th>Mercado\\nintradiario\\n€/MWh</th>\n",
       "      <th>Restricciones\\n\\n€/MWh</th>\n",
       "      <th>Procesos\\nOS\\n€/MWh</th>\n",
       "      <th>Pagos \\ncapacidad\\n€/MWh</th>\n",
       "      <th>REER\\n\\n€/MWh</th>\n",
       "      <th>Liquidación otros conceptos\\n(Mecanismo ajuste)\\n€/MWh</th>\n",
       "      <th>Importe participación\\nservicios\\n€/MWh</th>\n",
       "      <th>Total\\n\\n€/MWh</th>\n",
       "    </tr>\n",
       "  </thead>\n",
       "  <tbody>\n",
       "    <tr>\n",
       "      <th>0</th>\n",
       "      <td>2023-09-01</td>\n",
       "      <td>1</td>\n",
       "      <td>27210.650</td>\n",
       "      <td>119.25</td>\n",
       "      <td>0.00</td>\n",
       "      <td>2.38</td>\n",
       "      <td>0.48</td>\n",
       "      <td>NaN</td>\n",
       "      <td>NaN</td>\n",
       "      <td>0.0</td>\n",
       "      <td>NaN</td>\n",
       "      <td>122.11</td>\n",
       "    </tr>\n",
       "    <tr>\n",
       "      <th>1</th>\n",
       "      <td>2023-09-01</td>\n",
       "      <td>2</td>\n",
       "      <td>26214.369</td>\n",
       "      <td>116.25</td>\n",
       "      <td>-0.09</td>\n",
       "      <td>3.21</td>\n",
       "      <td>0.69</td>\n",
       "      <td>NaN</td>\n",
       "      <td>NaN</td>\n",
       "      <td>0.0</td>\n",
       "      <td>NaN</td>\n",
       "      <td>120.05</td>\n",
       "    </tr>\n",
       "    <tr>\n",
       "      <th>2</th>\n",
       "      <td>2023-09-01</td>\n",
       "      <td>3</td>\n",
       "      <td>25142.673</td>\n",
       "      <td>109.40</td>\n",
       "      <td>-0.16</td>\n",
       "      <td>3.87</td>\n",
       "      <td>0.92</td>\n",
       "      <td>NaN</td>\n",
       "      <td>NaN</td>\n",
       "      <td>0.0</td>\n",
       "      <td>NaN</td>\n",
       "      <td>114.03</td>\n",
       "    </tr>\n",
       "    <tr>\n",
       "      <th>3</th>\n",
       "      <td>2023-09-01</td>\n",
       "      <td>4</td>\n",
       "      <td>24612.054</td>\n",
       "      <td>109.40</td>\n",
       "      <td>-0.21</td>\n",
       "      <td>3.57</td>\n",
       "      <td>1.03</td>\n",
       "      <td>NaN</td>\n",
       "      <td>NaN</td>\n",
       "      <td>0.0</td>\n",
       "      <td>NaN</td>\n",
       "      <td>113.79</td>\n",
       "    </tr>\n",
       "    <tr>\n",
       "      <th>4</th>\n",
       "      <td>2023-09-01</td>\n",
       "      <td>5</td>\n",
       "      <td>24430.067</td>\n",
       "      <td>108.72</td>\n",
       "      <td>-0.28</td>\n",
       "      <td>2.98</td>\n",
       "      <td>0.38</td>\n",
       "      <td>NaN</td>\n",
       "      <td>NaN</td>\n",
       "      <td>0.0</td>\n",
       "      <td>NaN</td>\n",
       "      <td>111.80</td>\n",
       "    </tr>\n",
       "  </tbody>\n",
       "</table>\n",
       "</div>"
      ],
      "text/plain": [
       "         Día  Periodo  Energía \\nfinal \\nMWh  Mercado \\ndiario \\n€/MWh  \\\n",
       "0 2023-09-01        1              27210.650                    119.25   \n",
       "1 2023-09-01        2              26214.369                    116.25   \n",
       "2 2023-09-01        3              25142.673                    109.40   \n",
       "3 2023-09-01        4              24612.054                    109.40   \n",
       "4 2023-09-01        5              24430.067                    108.72   \n",
       "\n",
       "   Mercado\\nintradiario\\n€/MWh  Restricciones\\n\\n€/MWh  Procesos\\nOS\\n€/MWh  \\\n",
       "0                         0.00                    2.38                 0.48   \n",
       "1                        -0.09                    3.21                 0.69   \n",
       "2                        -0.16                    3.87                 0.92   \n",
       "3                        -0.21                    3.57                 1.03   \n",
       "4                        -0.28                    2.98                 0.38   \n",
       "\n",
       "   Pagos \\ncapacidad\\n€/MWh  REER\\n\\n€/MWh  \\\n",
       "0                       NaN            NaN   \n",
       "1                       NaN            NaN   \n",
       "2                       NaN            NaN   \n",
       "3                       NaN            NaN   \n",
       "4                       NaN            NaN   \n",
       "\n",
       "   Liquidación otros conceptos\\n(Mecanismo ajuste)\\n€/MWh  \\\n",
       "0                                                0.0        \n",
       "1                                                0.0        \n",
       "2                                                0.0        \n",
       "3                                                0.0        \n",
       "4                                                0.0        \n",
       "\n",
       "   Importe participación\\nservicios\\n€/MWh  Total\\n\\n€/MWh  \n",
       "0                                      NaN          122.11  \n",
       "1                                      NaN          120.05  \n",
       "2                                      NaN          114.03  \n",
       "3                                      NaN          113.79  \n",
       "4                                      NaN          111.80  "
      ]
     },
     "execution_count": 26,
     "metadata": {},
     "output_type": "execute_result"
    }
   ],
   "source": [
    "all_data = []  # Empty list to store dataframes\n",
    "for file_path in file_paths:\n",
    "    try:\n",
    "        df = pd.read_excel(file_path, skiprows = 3, header = 0)  # Skip the first Three rows\n",
    "        all_data.append(df)\n",
    "    except Exception as e:  # Handling potential errors\n",
    "        print(f\"Error reading file {file_path}: {e}\")\n",
    "\n",
    "combined_df = pd.concat(all_data, ignore_index=True)  # Combine dataframes\n",
    "combined_df.head()"
   ]
  },
  {
   "cell_type": "code",
   "execution_count": 28,
   "metadata": {},
   "outputs": [
    {
     "data": {
      "text/html": [
       "<div>\n",
       "<style scoped>\n",
       "    .dataframe tbody tr th:only-of-type {\n",
       "        vertical-align: middle;\n",
       "    }\n",
       "\n",
       "    .dataframe tbody tr th {\n",
       "        vertical-align: top;\n",
       "    }\n",
       "\n",
       "    .dataframe thead th {\n",
       "        text-align: right;\n",
       "    }\n",
       "</style>\n",
       "<table border=\"1\" class=\"dataframe\">\n",
       "  <thead>\n",
       "    <tr style=\"text-align: right;\">\n",
       "      <th></th>\n",
       "      <th>Día</th>\n",
       "      <th>Periodo</th>\n",
       "      <th>Total\\n\\n€/MWh</th>\n",
       "    </tr>\n",
       "  </thead>\n",
       "  <tbody>\n",
       "    <tr>\n",
       "      <th>0</th>\n",
       "      <td>2023-09-01</td>\n",
       "      <td>1</td>\n",
       "      <td>122.11</td>\n",
       "    </tr>\n",
       "    <tr>\n",
       "      <th>1</th>\n",
       "      <td>2023-09-01</td>\n",
       "      <td>2</td>\n",
       "      <td>120.05</td>\n",
       "    </tr>\n",
       "    <tr>\n",
       "      <th>2</th>\n",
       "      <td>2023-09-01</td>\n",
       "      <td>3</td>\n",
       "      <td>114.03</td>\n",
       "    </tr>\n",
       "    <tr>\n",
       "      <th>3</th>\n",
       "      <td>2023-09-01</td>\n",
       "      <td>4</td>\n",
       "      <td>113.79</td>\n",
       "    </tr>\n",
       "    <tr>\n",
       "      <th>4</th>\n",
       "      <td>2023-09-01</td>\n",
       "      <td>5</td>\n",
       "      <td>111.80</td>\n",
       "    </tr>\n",
       "  </tbody>\n",
       "</table>\n",
       "</div>"
      ],
      "text/plain": [
       "         Día  Periodo  Total\\n\\n€/MWh\n",
       "0 2023-09-01        1          122.11\n",
       "1 2023-09-01        2          120.05\n",
       "2 2023-09-01        3          114.03\n",
       "3 2023-09-01        4          113.79\n",
       "4 2023-09-01        5          111.80"
      ]
     },
     "execution_count": 28,
     "metadata": {},
     "output_type": "execute_result"
    }
   ],
   "source": [
    "# Select desired columns\n",
    "desired_columns = [\"Día\", \"Periodo\", \"Total\\n\\n€/MWh\"]\n",
    "filtered_df = combined_df[desired_columns]\n",
    "filtered_df.head()"
   ]
  }
 ],
 "metadata": {
  "kernelspec": {
   "display_name": ".venv",
   "language": "python",
   "name": "python3"
  },
  "language_info": {
   "codemirror_mode": {
    "name": "ipython",
    "version": 3
   },
   "file_extension": ".py",
   "mimetype": "text/x-python",
   "name": "python",
   "nbconvert_exporter": "python",
   "pygments_lexer": "ipython3",
   "version": "3.12.2"
  }
 },
 "nbformat": 4,
 "nbformat_minor": 2
}
